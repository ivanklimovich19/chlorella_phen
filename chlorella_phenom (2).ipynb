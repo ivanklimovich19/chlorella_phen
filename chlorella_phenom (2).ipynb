{
 "cells": [
  {
   "cell_type": "code",
   "execution_count": 1,
   "id": "c5a8e72e-e39f-49fc-bab4-34d8ce5d52e1",
   "metadata": {},
   "outputs": [],
   "source": [
    "import os\n",
    "import cv2\n",
    "import numpy as np\n",
    "import pandas as pd\n",
    "import matplotlib.pyplot as plt\n",
    "from tqdm import tqdm\n",
    "from datetime import datetime"
   ]
  },
  {
   "cell_type": "code",
   "execution_count": 2,
   "id": "8aee2730-e901-4845-8218-b3e614bc2ed1",
   "metadata": {},
   "outputs": [],
   "source": [
    "def setup_folders(output_folder):\n",
    "    os.makedirs(output_folder, exist_ok=True)\n",
    "    hist_dir = os.path.join(output_folder, \"histograms\")\n",
    "    os.makedirs(hist_dir, exist_ok=True)\n",
    "    return hist_dir  "
   ]
  },
  {
   "cell_type": "code",
   "execution_count": 3,
   "id": "b3f1b778-3287-483e-ae6b-a8bb70912d9d",
   "metadata": {},
   "outputs": [],
   "source": [
    "def get_image_files(folder_path):\n",
    "    return [f for f in os.listdir(folder_path) \n",
    "            if f.lower().endswith(('.png', '.jpg', '.jpeg', '.tif', '.tiff', '.bmp'))]"
   ]
  },
  {
   "cell_type": "code",
   "execution_count": 4,
   "id": "10fe2fed-fe7c-4d09-a830-01a39c753feb",
   "metadata": {},
   "outputs": [],
   "source": [
    "def sample_pixels(img_array, step=5):\n",
    "    return img_array[::step, ::step]"
   ]
  },
  {
   "cell_type": "code",
   "execution_count": 5,
   "id": "2925b762-4511-4362-9081-8838a12aafc2",
   "metadata": {},
   "outputs": [],
   "source": [
    "def analyze_colors(image_rgb, step=5):\n",
    "    sampled_img = sample_pixels(image_rgb, step)\n",
    "    r, g, b = cv2.split(sampled_img)\n",
    "    return r, g, b"
   ]
  },
  {
   "cell_type": "code",
   "execution_count": 6,
   "id": "85a93979-e44b-49a5-a856-df610678e160",
   "metadata": {},
   "outputs": [],
   "source": [
    "def preprocess_image(image):\n",
    "    gray = cv2.cvtColor(image, cv2.COLOR_BGR2GRAY)\n",
    "    clahe = cv2.createCLAHE(clipLimit=2.0, tileGridSize=(8,8))\n",
    "    contrast_enhanced = clahe.apply(gray)\n",
    "    blurred = cv2.GaussianBlur(contrast_enhanced, (5,5), 0)\n",
    "    _, binary = cv2.threshold(blurred, 0, 255, cv2.THRESH_BINARY_INV + cv2.THRESH_OTSU)\n",
    "    return binary"
   ]
  },
  {
   "cell_type": "code",
   "execution_count": 7,
   "id": "3f5af422-8e3b-41cc-9c31-c0236ae2d65e",
   "metadata": {},
   "outputs": [],
   "source": [
    "def segment_cells(image, binary_image):\n",
    "    kernel = np.ones((3,3), np.uint8)\n",
    "    cleaned = cv2.morphologyEx(binary_image, cv2.MORPH_OPEN, kernel, iterations=2)\n",
    "    sure_bg = cv2.dilate(cleaned, kernel, iterations=3)\n",
    "    \n",
    "    dist_transform = cv2.distanceTransform(cleaned, cv2.DIST_L2, 5)\n",
    "    _, sure_fg = cv2.threshold(dist_transform, 0.1*dist_transform.max(), 255, 0)\n",
    "    sure_fg = np.uint8(sure_fg)\n",
    "    \n",
    "    unknown = cv2.subtract(sure_bg, sure_fg)\n",
    "    _, markers = cv2.connectedComponents(sure_fg)\n",
    "    markers = markers + 1\n",
    "    markers[unknown == 255] = 0\n",
    "    \n",
    "    markers = cv2.watershed(cv2.cvtColor(image, cv2.COLOR_BGR2RGB), markers)\n",
    "    return markers"
   ]
  },
  {
   "cell_type": "code",
   "execution_count": 92,
   "id": "637cecbe-69f1-467d-894b-87326fed06ea",
   "metadata": {},
   "outputs": [],
   "source": [
    "def count_and_filter(image, markers, min_size=30, max_size=1000):\n",
    "    counts = 0\n",
    "    result_image = image.copy()\n",
    "    areas = []\n",
    "    \n",
    "    for label in np.unique(markers):\n",
    "        if label in [0, -1]: \n",
    "            continue\n",
    "            \n",
    "        mask = np.zeros(markers.shape, dtype=\"uint8\")\n",
    "        mask[markers == label] = 255\n",
    "        \n",
    "        contours, _ = cv2.findContours(mask, cv2.RETR_EXTERNAL, cv2.CHAIN_APPROX_SIMPLE)\n",
    "        \n",
    "        for cnt in contours:\n",
    "            area = cv2.contourArea(cnt)\n",
    "            areas.append(area)\n",
    "            if min_size <= area <= max_size:\n",
    "                counts += 1\n",
    "                cv2.drawContours(result_image, [cnt], -1, (0,255,0), 2)\n",
    "    \n",
    "    return counts, areas"
   ]
  },
  {
   "cell_type": "code",
   "execution_count": 94,
   "id": "c0401301-4691-4034-8c48-afaf8c2fa2a4",
   "metadata": {},
   "outputs": [],
   "source": [
    "def detect_background(image, threshold=30):\n",
    "    gray = cv2.cvtColor(image, cv2.COLOR_BGR2GRAY)\n",
    "    blurred = cv2.GaussianBlur(gray, (15,15), 0)\n",
    "    _, bg_mask = cv2.threshold(blurred, threshold, 255, cv2.THRESH_BINARY_INV)\n",
    "    return bg_mask"
   ]
  },
  {
   "cell_type": "code",
   "execution_count": 96,
   "id": "c1afe366-80cd-43f5-8580-c2ad0bb75424",
   "metadata": {},
   "outputs": [],
   "source": [
    "def process_single_image(image_path, step=5):\n",
    "    img = cv2.imread(image_path)\n",
    "    if img is None:\n",
    "        print(f\"Не удалось загрузить: {image_path}\")\n",
    "        return None, None, None, None, None\n",
    "    \n",
    "    filename = os.path.basename(image_path)\n",
    "    \n",
    "    try:\n",
    "        img_rgb = cv2.cvtColor(img, cv2.COLOR_BGR2RGB)\n",
    "        r, g, b = analyze_colors(img_rgb, step)\n",
    "        \n",
    "        binary = preprocess_image(img)\n",
    "        markers = segment_cells(img, binary)\n",
    "        cell_count, areas = count_and_filter(img, markers)  # Получаем только два значения\n",
    "        \n",
    "        color_stats = {\n",
    "            'filename': filename,\n",
    "            'Red': np.mean(r),\n",
    "            'Green': np.mean(g),\n",
    "            'Blue': np.mean(b),\n",
    "            'R/G': np.mean(r) / (np.mean(g) + 0.001),\n",
    "            'R/B': np.mean(r) / (np.mean(b) + 0.001),\n",
    "            'G/B': np.mean(g) / (np.mean(b) + 0.001),\n",
    "            'pixels_sampled': r.size\n",
    "        }\n",
    "        \n",
    "        cell_stats = {\n",
    "            'Cell Count': cell_count,\n",
    "            'Mean Area': np.mean(areas) if areas else 0,\n",
    "            'Median Area': np.median(areas) if areas else 0,\n",
    "            'Min Area': min(areas) if areas else 0,\n",
    "            'Max Area': max(areas) if areas else 0,\n",
    "            'Areas': areas\n",
    "        }\n",
    "        \n",
    "        return color_stats, cell_stats, r, g, b\n",
    "        \n",
    "    except Exception as e:\n",
    "        print(f\"Ошибка при обработке {filename}: {str(e)}\")\n",
    "        return None, None, None, None, None"
   ]
  },
  {
   "cell_type": "code",
   "execution_count": 98,
   "id": "6c190316-f520-4490-900f-f680cfb883ca",
   "metadata": {},
   "outputs": [],
   "source": [
    "def save_histograms(all_r, all_g, all_b, hist_dir):\n",
    "    plt.figure(figsize=(15, 5))\n",
    "    plt.subplot(131)\n",
    "    plt.hist(all_r, bins=256, color='red', alpha=0.7, range=(0, 256))\n",
    "    plt.title('R-channel')\n",
    "    plt.xlabel('Intensity')\n",
    "    plt.ylabel('Pixels number')\n",
    "    \n",
    "    plt.subplot(132)\n",
    "    plt.hist(all_g, bins=256, color='green', alpha=0.7, range=(0, 256))\n",
    "    plt.title('G-channel')\n",
    "    plt.xlabel('Intensity')\n",
    "    plt.ylabel('Pixels number')\n",
    "    \n",
    "    plt.subplot(133)\n",
    "    plt.hist(all_b, bins=256, color='blue', alpha=0.7, range=(0, 256))\n",
    "    plt.title('B-сhannel')\n",
    "    plt.xlabel('Intensity')\n",
    "    plt.ylabel('Pixels number')\n",
    "    \n",
    "    plt.subplots_adjust(wspace=0.5)\n",
    "    \n",
    "    timestamp = datetime.now().strftime(\"%Y%m%d_%H%M%S\")\n",
    "    hist_path = os.path.join(hist_dir, f'intensity_distribution_{timestamp}.png')\n",
    "    plt.savefig(hist_path)\n",
    "    plt.close()\n",
    "    return hist_path"
   ]
  },
  {
   "cell_type": "code",
   "execution_count": 100,
   "id": "d17d5098-d602-4ce7-8713-7853298ac854",
   "metadata": {
    "scrolled": true
   },
   "outputs": [
    {
     "name": "stdin",
     "output_type": "stream",
     "text": [
      "Enter the name of the input data folder:  chlorella\n",
      "Enter a folder name to save the results:  chlorella_results\n"
     ]
    },
    {
     "name": "stdout",
     "output_type": "stream",
     "text": [
      "Files found in folder: 30\n"
     ]
    },
    {
     "name": "stderr",
     "output_type": "stream",
     "text": [
      "Image processing:   3%|▊                         | 1/30 [00:01<00:48,  1.69s/it]"
     ]
    },
    {
     "name": "stdout",
     "output_type": "stream",
     "text": [
      "Processed: 20250130180804680.jpg\n"
     ]
    },
    {
     "name": "stderr",
     "output_type": "stream",
     "text": [
      "Image processing:   7%|█▋                        | 2/30 [00:05<01:29,  3.21s/it]"
     ]
    },
    {
     "name": "stdout",
     "output_type": "stream",
     "text": [
      "Processed: 20250130180751089.jpg\n"
     ]
    },
    {
     "name": "stderr",
     "output_type": "stream",
     "text": [
      "Image processing:  10%|██▌                       | 3/30 [00:07<01:07,  2.49s/it]"
     ]
    },
    {
     "name": "stdout",
     "output_type": "stream",
     "text": [
      "Processed: 20250130180931364.jpg\n"
     ]
    },
    {
     "name": "stderr",
     "output_type": "stream",
     "text": [
      "Image processing:  13%|███▍                      | 4/30 [00:10<01:04,  2.47s/it]"
     ]
    },
    {
     "name": "stdout",
     "output_type": "stream",
     "text": [
      "Processed: 20250130180954265.jpg\n"
     ]
    },
    {
     "name": "stderr",
     "output_type": "stream",
     "text": [
      "Image processing:  17%|████▎                     | 5/30 [00:16<01:36,  3.87s/it]"
     ]
    },
    {
     "name": "stdout",
     "output_type": "stream",
     "text": [
      "Processed: 20250130180738014.jpg\n"
     ]
    },
    {
     "name": "stderr",
     "output_type": "stream",
     "text": [
      "Image processing:  20%|█████▏                    | 6/30 [00:19<01:22,  3.45s/it]"
     ]
    },
    {
     "name": "stdout",
     "output_type": "stream",
     "text": [
      "Processed: 20250130181002013.jpg\n"
     ]
    },
    {
     "name": "stderr",
     "output_type": "stream",
     "text": [
      "Image processing:  23%|██████                    | 7/30 [00:22<01:22,  3.61s/it]"
     ]
    },
    {
     "name": "stdout",
     "output_type": "stream",
     "text": [
      "Processed: 20250130180918508.jpg\n"
     ]
    },
    {
     "name": "stderr",
     "output_type": "stream",
     "text": [
      "Image processing:  27%|██████▉                   | 8/30 [00:25<01:13,  3.35s/it]"
     ]
    },
    {
     "name": "stdout",
     "output_type": "stream",
     "text": [
      "Processed: 20250130181003091.jpg\n"
     ]
    },
    {
     "name": "stderr",
     "output_type": "stream",
     "text": [
      "Image processing:  30%|███████▊                  | 9/30 [00:29<01:09,  3.32s/it]"
     ]
    },
    {
     "name": "stdout",
     "output_type": "stream",
     "text": [
      "Processed: 20250130180902119.jpg\n"
     ]
    },
    {
     "name": "stderr",
     "output_type": "stream",
     "text": [
      "Image processing:  33%|████████▎                | 10/30 [00:30<00:57,  2.87s/it]"
     ]
    },
    {
     "name": "stdout",
     "output_type": "stream",
     "text": [
      "Processed: 20250130180818801.jpg\n"
     ]
    },
    {
     "name": "stderr",
     "output_type": "stream",
     "text": [
      "Image processing:  37%|█████████▏               | 11/30 [00:34<00:58,  3.07s/it]"
     ]
    },
    {
     "name": "stdout",
     "output_type": "stream",
     "text": [
      "Processed: 20250130180939159.jpg\n"
     ]
    },
    {
     "name": "stderr",
     "output_type": "stream",
     "text": [
      "Image processing:  40%|██████████               | 12/30 [00:38<00:58,  3.23s/it]"
     ]
    },
    {
     "name": "stdout",
     "output_type": "stream",
     "text": [
      "Processed: 20250130180939799.jpg\n"
     ]
    },
    {
     "name": "stderr",
     "output_type": "stream",
     "text": [
      "Image processing:  43%|██████████▊              | 13/30 [00:40<00:50,  3.00s/it]"
     ]
    },
    {
     "name": "stdout",
     "output_type": "stream",
     "text": [
      "Processed: 20250130180815677.jpg\n"
     ]
    },
    {
     "name": "stderr",
     "output_type": "stream",
     "text": [
      "Image processing:  47%|███████████▋             | 14/30 [00:42<00:45,  2.82s/it]"
     ]
    },
    {
     "name": "stdout",
     "output_type": "stream",
     "text": [
      "Processed: 20250130180901760.jpg\n"
     ]
    },
    {
     "name": "stderr",
     "output_type": "stream",
     "text": [
      "Image processing:  50%|████████████▌            | 15/30 [00:44<00:38,  2.55s/it]"
     ]
    },
    {
     "name": "stdout",
     "output_type": "stream",
     "text": [
      "Processed: 20250130180817895.jpg\n"
     ]
    },
    {
     "name": "stderr",
     "output_type": "stream",
     "text": [
      "Image processing:  53%|█████████████▎           | 16/30 [00:47<00:36,  2.62s/it]"
     ]
    },
    {
     "name": "stdout",
     "output_type": "stream",
     "text": [
      "Processed: 20250130180841812.jpg\n"
     ]
    },
    {
     "name": "stderr",
     "output_type": "stream",
     "text": [
      "Image processing:  57%|██████████████▏          | 17/30 [00:51<00:39,  3.05s/it]"
     ]
    },
    {
     "name": "stdout",
     "output_type": "stream",
     "text": [
      "Processed: 20250130180753760.jpg\n"
     ]
    },
    {
     "name": "stderr",
     "output_type": "stream",
     "text": [
      "Image processing:  60%|███████████████          | 18/30 [01:04<01:11,  5.96s/it]"
     ]
    },
    {
     "name": "stdout",
     "output_type": "stream",
     "text": [
      "Processed: 20250130180852122.jpg\n"
     ]
    },
    {
     "name": "stderr",
     "output_type": "stream",
     "text": [
      "Image processing:  63%|███████████████▊         | 19/30 [01:08<00:57,  5.27s/it]"
     ]
    },
    {
     "name": "stdout",
     "output_type": "stream",
     "text": [
      "Processed: 20250130180946142.jpg\n"
     ]
    },
    {
     "name": "stderr",
     "output_type": "stream",
     "text": [
      "Image processing:  67%|████████████████▋        | 20/30 [01:10<00:43,  4.35s/it]"
     ]
    },
    {
     "name": "stdout",
     "output_type": "stream",
     "text": [
      "Processed: 20250130181013979.jpg\n"
     ]
    },
    {
     "name": "stderr",
     "output_type": "stream",
     "text": [
      "Image processing:  70%|█████████████████▌       | 21/30 [01:14<00:38,  4.26s/it]"
     ]
    },
    {
     "name": "stdout",
     "output_type": "stream",
     "text": [
      "Processed: 20250130180919257.jpg\n"
     ]
    },
    {
     "name": "stderr",
     "output_type": "stream",
     "text": [
      "Image processing:  73%|██████████████████▎      | 22/30 [01:17<00:31,  3.95s/it]"
     ]
    },
    {
     "name": "stdout",
     "output_type": "stream",
     "text": [
      "Processed: 20250130181023274.jpg\n"
     ]
    },
    {
     "name": "stderr",
     "output_type": "stream",
     "text": [
      "Image processing:  77%|███████████████████▏     | 23/30 [01:31<00:48,  6.96s/it]"
     ]
    },
    {
     "name": "stdout",
     "output_type": "stream",
     "text": [
      "Processed: 20250130180850685.jpg\n"
     ]
    },
    {
     "name": "stderr",
     "output_type": "stream",
     "text": [
      "Image processing:  80%|████████████████████     | 24/30 [01:34<00:34,  5.81s/it]"
     ]
    },
    {
     "name": "stdout",
     "output_type": "stream",
     "text": [
      "Processed: 20250130181014682.jpg\n"
     ]
    },
    {
     "name": "stderr",
     "output_type": "stream",
     "text": [
      "Image processing:  83%|████████████████████▊    | 25/30 [01:36<00:23,  4.76s/it]"
     ]
    },
    {
     "name": "stdout",
     "output_type": "stream",
     "text": [
      "Processed: 20250130180908463.jpg\n"
     ]
    },
    {
     "name": "stderr",
     "output_type": "stream",
     "text": [
      "Image processing:  87%|█████████████████████▋   | 26/30 [01:37<00:14,  3.64s/it]"
     ]
    },
    {
     "name": "stdout",
     "output_type": "stream",
     "text": [
      "Processed: 20250130180801696.jpg\n"
     ]
    },
    {
     "name": "stderr",
     "output_type": "stream",
     "text": [
      "Image processing:  90%|██████████████████████▌  | 27/30 [01:40<00:10,  3.36s/it]"
     ]
    },
    {
     "name": "stdout",
     "output_type": "stream",
     "text": [
      "Processed: 20250130180907620.jpg\n"
     ]
    },
    {
     "name": "stderr",
     "output_type": "stream",
     "text": [
      "Image processing:  93%|███████████████████████▎ | 28/30 [01:42<00:05,  2.80s/it]"
     ]
    },
    {
     "name": "stdout",
     "output_type": "stream",
     "text": [
      "Processed: 20250130180930270.jpg\n"
     ]
    },
    {
     "name": "stderr",
     "output_type": "stream",
     "text": [
      "Image processing:  97%|████████████████████████▏| 29/30 [01:44<00:02,  2.68s/it]"
     ]
    },
    {
     "name": "stdout",
     "output_type": "stream",
     "text": [
      "Processed: 20250130180843467.jpg\n"
     ]
    },
    {
     "name": "stderr",
     "output_type": "stream",
     "text": [
      "Image processing: 100%|█████████████████████████| 30/30 [01:46<00:00,  3.57s/it]"
     ]
    },
    {
     "name": "stdout",
     "output_type": "stream",
     "text": [
      "Processed: 20250130180953890.jpg\n"
     ]
    },
    {
     "name": "stderr",
     "output_type": "stream",
     "text": [
      "\n"
     ]
    },
    {
     "name": "stdout",
     "output_type": "stream",
     "text": [
      "\n",
      "RGB statistics are saved in: chlorella_results/color_stats_20250728_150106.csv\n",
      "Cell statistics are saved in:\n",
      "- chlorella_results/cell_stats_20250728_150106.csv\n",
      "\n",
      "Histograms are saved in: chlorella_results/histograms/intensity_distribution_20250728_150228.png\n"
     ]
    }
   ],
   "source": [
    "def main():\n",
    "    input_folder = input(\"Enter the name of the input data folder: \")\n",
    "    output_folder = input(\"Enter a folder name to save the results: \")\n",
    "    pixel_sample_step = 5\n",
    "    hist_dir = setup_folders(output_folder)\n",
    "\n",
    "    image_files = get_image_files(input_folder)\n",
    "    print(f\"Files found in folder: {len(image_files)}\")\n",
    "    \n",
    "    all_color_stats = []\n",
    "    all_cell_stats = []\n",
    "    all_r, all_g, all_b = [], [], []\n",
    "    \n",
    "    for filename in tqdm(image_files, desc=\"Image processing\"):\n",
    "        image_path = os.path.join(input_folder, filename)\n",
    "        color_stats, cell_stats, r, g, b = process_single_image(image_path, pixel_sample_step) \n",
    "        \n",
    "        if color_stats and cell_stats:\n",
    "            all_color_stats.append(color_stats)\n",
    "            all_cell_stats.append({\n",
    "                'Filename': color_stats['filename'],\n",
    "                **{k: v for k, v in cell_stats.items() if k != 'Areas'}\n",
    "            })\n",
    "            \n",
    "            if r is not None and g is not None and b is not None:\n",
    "                all_r.extend(r.ravel())\n",
    "                all_g.extend(g.ravel())\n",
    "                all_b.extend(b.ravel())\n",
    "\n",
    "            print(f\"Processed: {filename}\")\n",
    "            timestamp = datetime.now().strftime(\"%Y%m%d_%H%M%S\")\n",
    "            \n",
    "    if all_color_stats:\n",
    "        color_df = pd.DataFrame(all_color_stats)\n",
    "        color_csv_path = os.path.join(output_folder, f'color_stats_{timestamp}.csv')\n",
    "        color_df.to_csv(color_csv_path, index=False)\n",
    "        print(f\"\\nRGB statistics are saved in: {color_csv_path}\")\n",
    "    \n",
    "    if all_cell_stats:\n",
    "        cell_df = pd.DataFrame(all_cell_stats)\n",
    "        cell_csv_path = os.path.join(output_folder, f'cell_stats_{timestamp}.csv')\n",
    "        cell_df.to_csv(cell_csv_path, index=False)\n",
    "        print(f\"Cell statistics are saved in:\\n- {cell_csv_path}\")\n",
    "    \n",
    "    if all_r and all_g and all_b:\n",
    "        hist_path = save_histograms(all_r, all_g, all_b, hist_dir)\n",
    "        print(f\"\\nHistograms are saved in: {hist_path}\")\n",
    "\n",
    "if __name__ == \"__main__\":\n",
    "    main()"
   ]
  },
  {
   "cell_type": "code",
   "execution_count": null,
   "id": "91d93e09-7427-4a93-86b4-4dba1f40be09",
   "metadata": {},
   "outputs": [],
   "source": []
  }
 ],
 "metadata": {
  "kernelspec": {
   "display_name": "Python [conda env:base] *",
   "language": "python",
   "name": "conda-base-py"
  },
  "language_info": {
   "codemirror_mode": {
    "name": "ipython",
    "version": 3
   },
   "file_extension": ".py",
   "mimetype": "text/x-python",
   "name": "python",
   "nbconvert_exporter": "python",
   "pygments_lexer": "ipython3",
   "version": "3.12.7"
  }
 },
 "nbformat": 4,
 "nbformat_minor": 5
}
