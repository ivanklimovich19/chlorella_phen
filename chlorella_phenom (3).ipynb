{
 "cells": [
  {
   "cell_type": "code",
   "execution_count": 1,
   "id": "c5a8e72e-e39f-49fc-bab4-34d8ce5d52e1",
   "metadata": {},
   "outputs": [],
   "source": [
    "import os\n",
    "import cv2\n",
    "import numpy as np\n",
    "import pandas as pd\n",
    "import matplotlib.pyplot as plt\n",
    "from tqdm import tqdm\n",
    "from datetime import datetime"
   ]
  },
  {
   "cell_type": "code",
   "execution_count": 2,
   "id": "8aee2730-e901-4845-8218-b3e614bc2ed1",
   "metadata": {},
   "outputs": [],
   "source": [
    "def setup_folders(output_folder):\n",
    "    os.makedirs(output_folder, exist_ok=True)\n",
    "    hist_dir = os.path.join(output_folder, \"histograms\")\n",
    "    os.makedirs(hist_dir, exist_ok=True)\n",
    "    return hist_dir  "
   ]
  },
  {
   "cell_type": "code",
   "execution_count": 3,
   "id": "b3f1b778-3287-483e-ae6b-a8bb70912d9d",
   "metadata": {},
   "outputs": [],
   "source": [
    "def get_image_files(folder_path):\n",
    "    return [f for f in os.listdir(folder_path) \n",
    "            if f.lower().endswith(('.png', '.jpg', '.jpeg', '.tif', '.tiff', '.bmp'))]"
   ]
  },
  {
   "cell_type": "code",
   "execution_count": 4,
   "id": "10fe2fed-fe7c-4d09-a830-01a39c753feb",
   "metadata": {},
   "outputs": [],
   "source": [
    "def sample_pixels(img_array, step=5):\n",
    "    return img_array[::step, ::step]"
   ]
  },
  {
   "cell_type": "code",
   "execution_count": 5,
   "id": "2925b762-4511-4362-9081-8838a12aafc2",
   "metadata": {},
   "outputs": [],
   "source": [
    "def analyze_colors(image_rgb, step=5):\n",
    "    sampled_img = sample_pixels(image_rgb, step)\n",
    "    r, g, b = cv2.split(sampled_img)\n",
    "    return r, g, b"
   ]
  },
  {
   "cell_type": "code",
   "execution_count": 6,
   "id": "85a93979-e44b-49a5-a856-df610678e160",
   "metadata": {},
   "outputs": [],
   "source": [
    "def preprocess_image(image):\n",
    "    gray = cv2.cvtColor(image, cv2.COLOR_BGR2GRAY)\n",
    "    clahe = cv2.createCLAHE(clipLimit=2.0, tileGridSize=(8,8))\n",
    "    contrast_enhanced = clahe.apply(gray)\n",
    "    blurred = cv2.GaussianBlur(contrast_enhanced, (5,5), 0)\n",
    "    _, binary = cv2.threshold(blurred, 0, 255, cv2.THRESH_BINARY_INV + cv2.THRESH_OTSU)\n",
    "    return binary"
   ]
  },
  {
   "cell_type": "code",
   "execution_count": 7,
   "id": "3f5af422-8e3b-41cc-9c31-c0236ae2d65e",
   "metadata": {},
   "outputs": [],
   "source": [
    "def segment_cells(image, binary_image):\n",
    "    kernel = np.ones((3,3), np.uint8)\n",
    "    cleaned = cv2.morphologyEx(binary_image, cv2.MORPH_OPEN, kernel, iterations=2)\n",
    "    sure_bg = cv2.dilate(cleaned, kernel, iterations=3)\n",
    "    \n",
    "    dist_transform = cv2.distanceTransform(cleaned, cv2.DIST_L2, 5)\n",
    "    _, sure_fg = cv2.threshold(dist_transform, 0.1*dist_transform.max(), 255, 0)\n",
    "    sure_fg = np.uint8(sure_fg)\n",
    "    \n",
    "    unknown = cv2.subtract(sure_bg, sure_fg)\n",
    "    _, markers = cv2.connectedComponents(sure_fg)\n",
    "    markers = markers + 1\n",
    "    markers[unknown == 255] = 0\n",
    "    \n",
    "    markers = cv2.watershed(cv2.cvtColor(image, cv2.COLOR_BGR2RGB), markers)\n",
    "    return markers"
   ]
  },
  {
   "cell_type": "code",
   "execution_count": 92,
   "id": "637cecbe-69f1-467d-894b-87326fed06ea",
   "metadata": {},
   "outputs": [],
   "source": [
    "def count_and_filter(image, markers, min_size=30, max_size=1000):\n",
    "    counts = 0\n",
    "    result_image = image.copy()\n",
    "    areas = []\n",
    "    \n",
    "    for label in np.unique(markers):\n",
    "        if label in [0, -1]: \n",
    "            continue\n",
    "            \n",
    "        mask = np.zeros(markers.shape, dtype=\"uint8\")\n",
    "        mask[markers == label] = 255\n",
    "        \n",
    "        contours, _ = cv2.findContours(mask, cv2.RETR_EXTERNAL, cv2.CHAIN_APPROX_SIMPLE)\n",
    "        \n",
    "        for cnt in contours:\n",
    "            area = cv2.contourArea(cnt)\n",
    "            areas.append(area)\n",
    "            if min_size <= area <= max_size:\n",
    "                counts += 1\n",
    "                cv2.drawContours(result_image, [cnt], -1, (0,255,0), 2)\n",
    "    \n",
    "    return counts, areas"
   ]
  },
  {
   "cell_type": "code",
   "execution_count": 94,
   "id": "c0401301-4691-4034-8c48-afaf8c2fa2a4",
   "metadata": {},
   "outputs": [],
   "source": [
    "def detect_background(image, threshold=30):\n",
    "    gray = cv2.cvtColor(image, cv2.COLOR_BGR2GRAY)\n",
    "    blurred = cv2.GaussianBlur(gray, (15,15), 0)\n",
    "    _, bg_mask = cv2.threshold(blurred, threshold, 255, cv2.THRESH_BINARY_INV)\n",
    "    return bg_mask"
   ]
  },
  {
   "cell_type": "code",
   "execution_count": 96,
   "id": "c1afe366-80cd-43f5-8580-c2ad0bb75424",
   "metadata": {},
   "outputs": [],
   "source": [
    "def process_single_image(image_path, step=5):\n",
    "    img = cv2.imread(image_path)\n",
    "    if img is None:\n",
    "        print(f\"Не удалось загрузить: {image_path}\")\n",
    "        return None, None, None, None, None\n",
    "    \n",
    "    filename = os.path.basename(image_path)\n",
    "    \n",
    "    try:\n",
    "        img_rgb = cv2.cvtColor(img, cv2.COLOR_BGR2RGB)\n",
    "        r, g, b = analyze_colors(img_rgb, step)\n",
    "        \n",
    "        binary = preprocess_image(img)\n",
    "        markers = segment_cells(img, binary)\n",
    "        cell_count, areas = count_and_filter(img, markers)  # Получаем только два значения\n",
    "        \n",
    "        color_stats = {\n",
    "            'filename': filename,\n",
    "            'Red': np.mean(r),\n",
    "            'Green': np.mean(g),\n",
    "            'Blue': np.mean(b),\n",
    "            'R/G': np.mean(r) / (np.mean(g) + 0.001),\n",
    "            'R/B': np.mean(r) / (np.mean(b) + 0.001),\n",
    "            'G/B': np.mean(g) / (np.mean(b) + 0.001),\n",
    "            'pixels_sampled': r.size\n",
    "        }\n",
    "        \n",
    "        cell_stats = {\n",
    "            'Cell Count': cell_count,\n",
    "            'Mean Area': np.mean(areas) if areas else 0,\n",
    "            'Median Area': np.median(areas) if areas else 0,\n",
    "            'Min Area': min(areas) if areas else 0,\n",
    "            'Max Area': max(areas) if areas else 0,\n",
    "            'Areas': areas\n",
    "        }\n",
    "        \n",
    "        return color_stats, cell_stats, r, g, b\n",
    "        \n",
    "    except Exception as e:\n",
    "        print(f\"Ошибка при обработке {filename}: {str(e)}\")\n",
    "        return None, None, None, None, None"
   ]
  },
  {
   "cell_type": "code",
   "execution_count": 98,
   "id": "6c190316-f520-4490-900f-f680cfb883ca",
   "metadata": {},
   "outputs": [],
   "source": [
    "def save_histograms(all_r, all_g, all_b, hist_dir):\n",
    "    plt.figure(figsize=(15, 5))\n",
    "    plt.subplot(131)\n",
    "    plt.hist(all_r, bins=256, color='red', alpha=0.7, range=(0, 256))\n",
    "    plt.title('R-channel')\n",
    "    plt.xlabel('Intensity')\n",
    "    plt.ylabel('Pixels number')\n",
    "    \n",
    "    plt.subplot(132)\n",
    "    plt.hist(all_g, bins=256, color='green', alpha=0.7, range=(0, 256))\n",
    "    plt.title('G-channel')\n",
    "    plt.xlabel('Intensity')\n",
    "    plt.ylabel('Pixels number')\n",
    "    \n",
    "    plt.subplot(133)\n",
    "    plt.hist(all_b, bins=256, color='blue', alpha=0.7, range=(0, 256))\n",
    "    plt.title('B-сhannel')\n",
    "    plt.xlabel('Intensity')\n",
    "    plt.ylabel('Pixels number')\n",
    "    \n",
    "    plt.subplots_adjust(wspace=0.5)\n",
    "    \n",
    "    timestamp = datetime.now().strftime(\"%Y%m%d_%H%M%S\")\n",
    "    hist_path = os.path.join(hist_dir, f'intensity_distribution_{timestamp}.png')\n",
    "    plt.savefig(hist_path)\n",
    "    plt.close()\n",
    "    return hist_path"
   ]
  },
  {
   "cell_type": "code",
   "execution_count": 1,
   "id": "d17d5098-d602-4ce7-8713-7853298ac854",
   "metadata": {
    "scrolled": true
   },
   "outputs": [
    {
     "ename": "KeyboardInterrupt",
     "evalue": "Interrupted by user",
     "output_type": "error",
     "traceback": [
      "\u001b[0;31m---------------------------------------------------------------------------\u001b[0m",
      "\u001b[0;31mKeyboardInterrupt\u001b[0m                         Traceback (most recent call last)",
      "Cell \u001b[0;32mIn[1], line 50\u001b[0m\n\u001b[1;32m     47\u001b[0m         \u001b[38;5;28mprint\u001b[39m(\u001b[38;5;124mf\u001b[39m\u001b[38;5;124m\"\u001b[39m\u001b[38;5;130;01m\\n\u001b[39;00m\u001b[38;5;124mHistograms are saved in: \u001b[39m\u001b[38;5;132;01m{\u001b[39;00mhist_path\u001b[38;5;132;01m}\u001b[39;00m\u001b[38;5;124m\"\u001b[39m)\n\u001b[1;32m     49\u001b[0m \u001b[38;5;28;01mif\u001b[39;00m \u001b[38;5;18m__name__\u001b[39m \u001b[38;5;241m==\u001b[39m \u001b[38;5;124m\"\u001b[39m\u001b[38;5;124m__main__\u001b[39m\u001b[38;5;124m\"\u001b[39m:\n\u001b[0;32m---> 50\u001b[0m     main()\n\u001b[1;32m     51\u001b[0m     get_ipython()\u001b[38;5;241m.\u001b[39mrun_line_magic(\u001b[38;5;124m'\u001b[39m\u001b[38;5;132;01m%c\u001b[39;00m\u001b[38;5;124mapture\u001b[39m\u001b[38;5;124m'\u001b[39m, \u001b[38;5;124m'\u001b[39m\u001b[38;5;124m'\u001b[39m)\n",
      "Cell \u001b[0;32mIn[1], line 2\u001b[0m, in \u001b[0;36mmain\u001b[0;34m()\u001b[0m\n\u001b[1;32m      1\u001b[0m \u001b[38;5;28;01mdef\u001b[39;00m \u001b[38;5;21mmain\u001b[39m():\n\u001b[0;32m----> 2\u001b[0m     input_folder \u001b[38;5;241m=\u001b[39m \u001b[38;5;28minput\u001b[39m(\u001b[38;5;124m\"\u001b[39m\u001b[38;5;124mEnter the name of the input data folder: \u001b[39m\u001b[38;5;124m\"\u001b[39m)\n\u001b[1;32m      3\u001b[0m     output_folder \u001b[38;5;241m=\u001b[39m \u001b[38;5;28minput\u001b[39m(\u001b[38;5;124m\"\u001b[39m\u001b[38;5;124mEnter a folder name to save the results: \u001b[39m\u001b[38;5;124m\"\u001b[39m)\n\u001b[1;32m      4\u001b[0m     pixel_sample_step \u001b[38;5;241m=\u001b[39m \u001b[38;5;241m5\u001b[39m\n",
      "File \u001b[0;32m/opt/anaconda3/lib/python3.12/site-packages/ipykernel/kernelbase.py:1262\u001b[0m, in \u001b[0;36mKernel.raw_input\u001b[0;34m(self, prompt)\u001b[0m\n\u001b[1;32m   1260\u001b[0m     msg \u001b[38;5;241m=\u001b[39m \u001b[38;5;124m\"\u001b[39m\u001b[38;5;124mraw_input was called, but this frontend does not support input requests.\u001b[39m\u001b[38;5;124m\"\u001b[39m\n\u001b[1;32m   1261\u001b[0m     \u001b[38;5;28;01mraise\u001b[39;00m StdinNotImplementedError(msg)\n\u001b[0;32m-> 1262\u001b[0m \u001b[38;5;28;01mreturn\u001b[39;00m \u001b[38;5;28mself\u001b[39m\u001b[38;5;241m.\u001b[39m_input_request(\n\u001b[1;32m   1263\u001b[0m     \u001b[38;5;28mstr\u001b[39m(prompt),\n\u001b[1;32m   1264\u001b[0m     \u001b[38;5;28mself\u001b[39m\u001b[38;5;241m.\u001b[39m_parent_ident[\u001b[38;5;124m\"\u001b[39m\u001b[38;5;124mshell\u001b[39m\u001b[38;5;124m\"\u001b[39m],\n\u001b[1;32m   1265\u001b[0m     \u001b[38;5;28mself\u001b[39m\u001b[38;5;241m.\u001b[39mget_parent(\u001b[38;5;124m\"\u001b[39m\u001b[38;5;124mshell\u001b[39m\u001b[38;5;124m\"\u001b[39m),\n\u001b[1;32m   1266\u001b[0m     password\u001b[38;5;241m=\u001b[39m\u001b[38;5;28;01mFalse\u001b[39;00m,\n\u001b[1;32m   1267\u001b[0m )\n",
      "File \u001b[0;32m/opt/anaconda3/lib/python3.12/site-packages/ipykernel/kernelbase.py:1305\u001b[0m, in \u001b[0;36mKernel._input_request\u001b[0;34m(self, prompt, ident, parent, password)\u001b[0m\n\u001b[1;32m   1302\u001b[0m \u001b[38;5;28;01mexcept\u001b[39;00m \u001b[38;5;167;01mKeyboardInterrupt\u001b[39;00m:\n\u001b[1;32m   1303\u001b[0m     \u001b[38;5;66;03m# re-raise KeyboardInterrupt, to truncate traceback\u001b[39;00m\n\u001b[1;32m   1304\u001b[0m     msg \u001b[38;5;241m=\u001b[39m \u001b[38;5;124m\"\u001b[39m\u001b[38;5;124mInterrupted by user\u001b[39m\u001b[38;5;124m\"\u001b[39m\n\u001b[0;32m-> 1305\u001b[0m     \u001b[38;5;28;01mraise\u001b[39;00m \u001b[38;5;167;01mKeyboardInterrupt\u001b[39;00m(msg) \u001b[38;5;28;01mfrom\u001b[39;00m \u001b[38;5;28;01mNone\u001b[39;00m\n\u001b[1;32m   1306\u001b[0m \u001b[38;5;28;01mexcept\u001b[39;00m \u001b[38;5;167;01mException\u001b[39;00m:\n\u001b[1;32m   1307\u001b[0m     \u001b[38;5;28mself\u001b[39m\u001b[38;5;241m.\u001b[39mlog\u001b[38;5;241m.\u001b[39mwarning(\u001b[38;5;124m\"\u001b[39m\u001b[38;5;124mInvalid Message:\u001b[39m\u001b[38;5;124m\"\u001b[39m, exc_info\u001b[38;5;241m=\u001b[39m\u001b[38;5;28;01mTrue\u001b[39;00m)\n",
      "\u001b[0;31mKeyboardInterrupt\u001b[0m: Interrupted by user"
     ]
    }
   ],
   "source": [
    "def main():\n",
    "    input_folder = input(\"Enter the name of the input data folder: \")\n",
    "    output_folder = input(\"Enter a folder name to save the results: \")\n",
    "    pixel_sample_step = 5\n",
    "    hist_dir = setup_folders(output_folder)\n",
    "\n",
    "    image_files = get_image_files(input_folder)\n",
    "    print(f\"Files found in folder: {len(image_files)}\")\n",
    "    \n",
    "    all_color_stats = []\n",
    "    all_cell_stats = []\n",
    "    all_r, all_g, all_b = [], [], []\n",
    "    \n",
    "    for filename in tqdm(image_files, desc=\"Image processing\"):\n",
    "        image_path = os.path.join(input_folder, filename)\n",
    "        color_stats, cell_stats, r, g, b = process_single_image(image_path, pixel_sample_step) \n",
    "        \n",
    "        if color_stats and cell_stats:\n",
    "            all_color_stats.append(color_stats)\n",
    "            all_cell_stats.append({\n",
    "                'Filename': color_stats['filename'],\n",
    "                **{k: v for k, v in cell_stats.items() if k != 'Areas'}\n",
    "            })\n",
    "            \n",
    "            if r is not None and g is not None and b is not None:\n",
    "                all_r.extend(r.ravel())\n",
    "                all_g.extend(g.ravel())\n",
    "                all_b.extend(b.ravel())\n",
    "\n",
    "            print(f\"Processed: {filename}\")\n",
    "            timestamp = datetime.now().strftime(\"%Y%m%d_%H%M%S\")\n",
    "            \n",
    "    if all_color_stats:\n",
    "        color_df = pd.DataFrame(all_color_stats)\n",
    "        color_csv_path = os.path.join(output_folder, f'color_stats_{timestamp}.csv')\n",
    "        color_df.to_csv(color_csv_path, index=False)\n",
    "        print(f\"\\nRGB statistics are saved in: {color_csv_path}\")\n",
    "    \n",
    "    if all_cell_stats:\n",
    "        cell_df = pd.DataFrame(all_cell_stats)\n",
    "        cell_csv_path = os.path.join(output_folder, f'cell_stats_{timestamp}.csv')\n",
    "        cell_df.to_csv(cell_csv_path, index=False)\n",
    "        print(f\"Cell statistics are saved in:\\n- {cell_csv_path}\")\n",
    "    \n",
    "    if all_r and all_g and all_b:\n",
    "        hist_path = save_histograms(all_r, all_g, all_b, hist_dir)\n",
    "        print(f\"\\nHistograms are saved in: {hist_path}\")\n",
    "\n",
    "if __name__ == \"__main__\":\n",
    "    main()"
   ]
  },
  {
   "cell_type": "code",
   "execution_count": null,
   "id": "91d93e09-7427-4a93-86b4-4dba1f40be09",
   "metadata": {},
   "outputs": [],
   "source": []
  }
 ],
 "metadata": {
  "kernelspec": {
   "display_name": "Python [conda env:base] *",
   "language": "python",
   "name": "conda-base-py"
  },
  "language_info": {
   "codemirror_mode": {
    "name": "ipython",
    "version": 3
   },
   "file_extension": ".py",
   "mimetype": "text/x-python",
   "name": "python",
   "nbconvert_exporter": "python",
   "pygments_lexer": "ipython3",
   "version": "3.12.7"
  }
 },
 "nbformat": 4,
 "nbformat_minor": 5
}
